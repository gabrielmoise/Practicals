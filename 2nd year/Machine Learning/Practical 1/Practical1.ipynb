{
 "cells": [
  {
   "cell_type": "code",
   "execution_count": 1,
   "metadata": {},
   "outputs": [],
   "source": [
    "import _pickle as cp\n",
    "import numpy as np\n",
    "import matplotlib.pyplot as plt\n",
    "\n",
    "X, y = cp.load(open('winequality-white.pickle', 'rb'))\n",
    "\n",
    "N, D = X.shape\n",
    "N_train = int(0.8 * N) \n",
    "N_test = N - N_train\n",
    "X_train = X[:N_train] \n",
    "y_train = y[:N_train] \n",
    "X_test = X[N_train:] \n",
    "y_test = y[N_train:]"
   ]
  },
  {
   "cell_type": "markdown",
   "metadata": {},
   "source": [
    "## Handin 1"
   ]
  },
  {
   "cell_type": "code",
   "execution_count": 2,
   "metadata": {},
   "outputs": [
    {
     "data": {
      "image/png": "[encoded data removed]",
      "text/plain": [
       "<Figure size 432x288 with 1 Axes>"
      ]
     },
     "metadata": {
      "needs_background": "light"
     },
     "output_type": "display_data"
    }
   ],
   "source": [
    "index, count = np.unique(y_train, return_counts = True)\n",
    "plt.bar(index, count / len(y_train))\n",
    "plt.xlabel(\"Quality of wine\")\n",
    "plt.ylabel(\"Density\")\n",
    "plt.title(\"Distribution of quality\")\n",
    "plt.show()"
   ]
  },
  {
   "cell_type": "markdown",
   "metadata": {},
   "source": [
    "## Handin 2 "
   ]
  },
  {
   "cell_type": "code",
   "execution_count": 3,
   "metadata": {},
   "outputs": [
    {
     "name": "stdout",
     "output_type": "stream",
     "text": [
      "Mean: 5.878764675855028, Training mean squared error 0.7767772386501117, Test mean squared error: 0.8138573000045535\n"
     ]
    }
   ],
   "source": [
    "mean = y_train.mean()\n",
    "train_squared_error = (y_train - mean) ** 2\n",
    "test_squared_error = (y_test - mean) ** 2\n",
    "print(f\"Mean: {mean}, Training mean squared error {train_squared_error.mean()}, Test mean squared error: {test_squared_error.mean()}\")"
   ]
  },
  {
   "cell_type": "markdown",
   "metadata": {},
   "source": [
    "## Handin 3"
   ]
  },
  {
   "cell_type": "code",
   "execution_count": 4,
   "metadata": {},
   "outputs": [
    {
     "name": "stdout",
     "output_type": "stream",
     "text": [
      "Training error: 0.5639996173941925, Test error: 0.5607292042283468\n"
     ]
    }
   ],
   "source": [
    "def meanOf(X):\n",
    "    return X.mean(axis = 0)\n",
    "\n",
    "def varianceOf(X):\n",
    "    X_center = X - meanOf(X)\n",
    "    return np.sqrt((X_center ** 2).mean(axis = 0))\n",
    "\n",
    "def standardise(X):\n",
    "    mean, variance = meanOf(X), varianceOf(X)\n",
    "    return ((X - mean) / variance), mean, variance\n",
    "\n",
    "def standardise_with(X, mean, variance):\n",
    "    return (X - mean) / variance\n",
    "\n",
    "def mean_squared_error(y, y_est):\n",
    "    return ((y - y_est) ** 2).mean()\n",
    "\n",
    "def linear_model_error(X_train, y_train, X_test, y_test):\n",
    "    N_train = len(X_train)\n",
    "    N_test = len(X_test)\n",
    "    \n",
    "    # Standardise input\n",
    "    X_train_std, mean, variance = standardise(X_train)\n",
    "    X_test_std = standardise_with(X_test, mean, variance)\n",
    "\n",
    "    # Add bias\n",
    "    X_train_std_bias = np.insert(X_train_std, 0, np.ones(N_train), axis = 1)\n",
    "    X_test_std_bias = np.insert(X_test_std, 0, np.ones(N_test), axis = 1)\n",
    "\n",
    "    # Find parameter and estimates\n",
    "    w = np.linalg.inv(X_train_std_bias.T @ X_train_std_bias) @ X_train_std_bias.T @ y_train\n",
    "    y_train_estimated = X_train_std_bias @ w\n",
    "    y_test_estimated = X_test_std_bias @ w\n",
    "\n",
    "    # Computer error in training and testing\n",
    "    train_error = mean_squared_error(y_train, y_train_estimated)\n",
    "    test_error = mean_squared_error(y_test, y_test_estimated)\n",
    "    return train_error, test_error\n",
    "\n",
    "\n",
    "train_error, test_error = linear_model_error(X_train, y_train, X_test, y_test)\n",
    "print(f\"Training error: {train_error}, Test error: {test_error}\")"
   ]
  },
  {
   "cell_type": "markdown",
   "metadata": {},
   "source": [
    "Note that standardising is not necessary in this case because the closed form of the estimated parameter is not dependent on the mean or variance. However, we need to add bias to the model in order to make sure that the precision is not affected by translations."
   ]
  },
  {
   "cell_type": "markdown",
   "metadata": {},
   "source": [
    "## Handin 4"
   ]
  },
  {
   "cell_type": "code",
   "execution_count": 5,
   "metadata": {},
   "outputs": [
    {
     "data": {
      "image/png": "[encoded data removed]",
      "text/plain": [
       "<Figure size 432x288 with 1 Axes>"
      ]
     },
     "metadata": {
      "needs_background": "light"
     },
     "output_type": "display_data"
    }
   ],
   "source": [
    "data_sizes = np.arange(20, 601, 20)\n",
    "train_error = np.empty(len(data_sizes))\n",
    "test_error = np.empty(len(data_sizes))\n",
    "\n",
    "for i, data_size in enumerate(data_sizes):\n",
    "    tre, tee = linear_model_error(X_train[:data_size], y_train[:data_size], X_test, y_test)\n",
    "    train_error[i] = tre\n",
    "    test_error[i] = tee\n",
    "    \n",
    "plt.plot(data_sizes, train_error, label = \"Training Error\")\n",
    "plt.plot(data_sizes, test_error, label = \"Test Error\")\n",
    "plt.xlabel(\"Datapoints\")\n",
    "plt.ylabel(\"Mean Squared Error\")\n",
    "plt.title(\"Error for increasing size of input\")\n",
    "plt.legend()\n",
    "plt.show()"
   ]
  },
  {
   "cell_type": "markdown",
   "metadata": {},
   "source": [
    "It seems that the training error and test error approach each other very fast and stay level even though we add more data. Therefore, I think that our model is underfitting. As it can be seen, these two errors get very close to each other after approximatively 100 iterations but the optimal error is reached on ~500th iteration.  "
   ]
  },
  {
   "cell_type": "markdown",
   "metadata": {},
   "source": [
    "## Optional"
   ]
  },
  {
   "cell_type": "code",
   "execution_count": 6,
   "metadata": {},
   "outputs": [
    {
     "name": "stdout",
     "output_type": "stream",
     "text": [
      "Ridge error 0.4976658948620112 for alpha 0.01\n",
      "Ridge error 0.5008726637568776 for alpha 0.1\n",
      "Ridge error 0.5020783365622011 for alpha 1.0\n",
      "Ridge error 0.5072043862844521 for alpha 10.0\n",
      "Ridge error 0.523128235885675 for alpha 100.0\n",
      "Training error: 0.501435447142948, Test error: 0.5161138844985275 for Ridge regression with alpha 0.01\n",
      "\n",
      "Lasso error 0.5451507715134889 for alpha 0.01\n",
      "Lasso error 0.6050022308686411 for alpha 0.1\n",
      "Lasso error 0.7734672197676306 for alpha 1.0\n",
      "Lasso error 0.7734672197676306 for alpha 10.0\n",
      "Lasso error 0.7734672197676306 for alpha 100.0\n",
      "Training error: 0.5489519598429463, Test error: 0.5422044237442246 for Lasso regression with alpha 0.01\n",
      "\n"
     ]
    }
   ],
   "source": [
    "from sklearn.preprocessing import StandardScaler, PolynomialFeatures\n",
    "from sklearn.linear_model import Ridge, Lasso\n",
    "from sklearn.pipeline import make_pipeline\n",
    "from sklearn.model_selection import KFold\n",
    "\n",
    "X, y = cp.load(open('winequality-white.pickle', 'rb'))\n",
    "\n",
    "def estimator_error(X, y, X_val, y_val, model, degree = 2):\n",
    "    X, y, X_val, y_val = X.copy(), y.copy(), X_val.copy(), y_val.copy()\n",
    "    \n",
    "    pipeline = make_pipeline(PolynomialFeatures(degree), StandardScaler(), model)\n",
    "    \n",
    "    pipeline.fit(X, y)\n",
    "    y_est = pipeline.predict(X)\n",
    "    y_val_est = pipeline.predict(X_val)\n",
    "    return mean_squared_error(y, y_est), mean_squared_error(y_val, y_val_est)\n",
    "\n",
    "def validation_parameter(name, model, alphas, dataset, final_dataset, tol = 0.001):\n",
    "    X_main, y_main, X_validation, y_validation = dataset\n",
    "    X, y, X_test, y_test = final_dataset\n",
    "    \n",
    "    best_alpha = -1\n",
    "    best_error = 1e200\n",
    "    \n",
    "    for alpha in alphas:\n",
    "        _, error = estimator_error(X_main, y_main, X_validation, y_validation, model(alpha, tol = tol))\n",
    "        print(f\"{name} error {error} for alpha {alpha}\")\n",
    "        if error < best_error:\n",
    "            best_alpha, best_error = alpha, error\n",
    "    \n",
    "    train_error, test_error = estimator_error(X, y, X_test, y_test, model(best_alpha, tol = tol))\n",
    "    print(f\"Training error: {train_error}, Test error: {test_error} for {name} regression with alpha {best_alpha}\")\n",
    "    print()\n",
    "\n",
    "\n",
    "# Build data\n",
    "N_main = int(N_train * 0.8)\n",
    "X_main = X_train[:N_main]\n",
    "y_main = y_train[:N_main]\n",
    "X_validation = X_train[:N_main]\n",
    "y_validation = y_train[:N_main]\n",
    "alphas = [1e-2, 1e-1, 1e0, 1e1, 1e2]\n",
    "\n",
    "# Train with Ridge and Lasso regressions\n",
    "dataset = (X_main, y_main, X_validation, y_validation)\n",
    "final_dataset = (X_train, y_train, X_test, y_test)\n",
    "validation_parameter(\"Ridge\", Ridge, alphas, dataset, final_dataset)\n",
    "validation_parameter(\"Lasso\", Lasso, alphas, dataset, final_dataset)"
   ]
  },
  {
   "cell_type": "markdown",
   "metadata": {},
   "source": [
    "## Super-optional"
   ]
  },
  {
   "cell_type": "code",
   "execution_count": 7,
   "metadata": {},
   "outputs": [
    {
     "name": "stdout",
     "output_type": "stream",
     "text": [
      "Ridge error: 0.8907810879342971 for alpha 0.01\n",
      "Ridge error: 0.8302915661258001 for alpha 0.1\n",
      "Ridge error: 0.7414819386612966 for alpha 1.0\n",
      "Ridge error: 0.6062902295568089 for alpha 10.0\n",
      "Ridge error: 0.5566313391166713 for alpha 100.0\n",
      "Training error: 0.4947339958714718, Test error: 0.5086577649219994 for Ridge regression with alpha 100.0\n",
      "\n",
      "Lasso error: 0.5761071048126567 for alpha 0.01\n",
      "Lasso error: 0.6066118890077492 for alpha 0.1\n",
      "Lasso error: 0.7771049866470655 for alpha 1.0\n",
      "Lasso error: 0.7771049866470655 for alpha 10.0\n",
      "Lasso error: 0.7771049866470655 for alpha 100.0\n",
      "Training error: 0.5386614903472502, Test error: 0.5288907170323295 for Lasso regression with alpha 0.01\n",
      "\n"
     ]
    }
   ],
   "source": [
    "def cross_validation_parameter(name, model, alphas, dataset, n_splits = 5, degree = 3, tol = 0.001):\n",
    "    X, y, X_test, y_test = dataset\n",
    "    \n",
    "    best_alpha = -1\n",
    "    best_error = 1e200\n",
    "    \n",
    "    kfold = KFold(n_splits = n_splits)\n",
    "\n",
    "    for alpha in alphas:\n",
    "        cross_errors = []\n",
    "\n",
    "        for train_data, test_data in kfold.split(X):\n",
    "            X_main, y_main = X[train_data], y[train_data]\n",
    "            X_validation, y_validation = X[test_data], y[test_data]\n",
    "            _, error = estimator_error(X_main, y_main, X_validation, y_validation, \n",
    "                                       model(alpha, tol = tol), degree = degree)\n",
    "            cross_errors.append(error)\n",
    "            \n",
    "        error = np.array(cross_errors).mean()\n",
    "        if error < best_error:\n",
    "            best_alpha = alpha\n",
    "            best_error = error\n",
    "            \n",
    "        print(f\"{name} error: {error} for alpha {alpha}\")\n",
    "    \n",
    "    train_err, test_err = estimator_error(X, y, X_test, y_test, model(best_alpha, tol = tol), degree = degree)\n",
    "    print(f\"Training error: {train_err}, Test error: {test_err} for {name} regression with alpha {best_alpha}\")\n",
    "    print()\n",
    "\n",
    "cross_validation_parameter(\"Ridge\", Ridge, alphas, (X_train, y_train, X_test, y_test))\n",
    "cross_validation_parameter(\"Lasso\", Lasso, alphas, (X_train, y_train, X_test, y_test))"
   ]
  },
  {
   "cell_type": "code",
   "execution_count": null,
   "metadata": {},
   "outputs": [],
   "source": []
  }
 ],
 "metadata": {
  "kernelspec": {
   "display_name": "Python 3",
   "language": "python",
   "name": "python3"
  },
  "language_info": {
   "codemirror_mode": {
    "name": "ipython",
    "version": 3
   },
   "file_extension": ".py",
   "mimetype": "text/x-python",
   "name": "python",
   "nbconvert_exporter": "python",
   "pygments_lexer": "ipython3",
   "version": "3.7.4"
  }
 },
 "nbformat": 4,
 "nbformat_minor": 2
}
